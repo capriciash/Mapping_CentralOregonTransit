{
 "cells": [
  {
   "cell_type": "markdown",
   "metadata": {},
   "source": [
    "# **Expanding Public Transportation in Bend, OR**\n",
    "### Final Project for Data Science in the Wild\n",
    "*Ashley Riehl*  \n",
    "*March 2017*"
   ]
  },
  {
   "cell_type": "markdown",
   "metadata": {},
   "source": [
    "#### Objective:\n",
    "To use publicly available data to explore good opportunities for fixed-route bus expansion in Bend, Oregon.\n",
    "\n",
    "#### Technologies:  \n",
    "- qGIS\n",
    "- Python\n",
    "\n",
    "#### Data Sources:  \n",
    "- Census.gov\n",
    "- Deschutes County Open Data\n",
    "- Natural Earth Data\n",
    "- Transit Feeds\n",
    "- Other\n",
    "\n",
    "***"
   ]
  },
  {
   "cell_type": "markdown",
   "metadata": {},
   "source": [
    "### Geocode Addresses Using the Google Maps API\n",
    "Code taken and modified from Dr. Chuck Severance's Coursera Series, *Python for Everybody*"
   ]
  },
  {
   "cell_type": "code",
   "execution_count": 1,
   "metadata": {
    "collapsed": false
   },
   "outputs": [],
   "source": [
    "import urllib.request, urllib.parse, urllib.error\n",
    "import http\n",
    "import sqlite3\n",
    "import json\n",
    "import time\n",
    "import ssl\n",
    "import sys\n",
    "import os\n",
    "import pandas as pd\n",
    "from geocodepersonal import personal as api_key\n",
    "\n",
    "serviceurl = \"https://maps.googleapis.com/maps/api/place/textsearch/json?\""
   ]
  },
  {
   "cell_type": "code",
   "execution_count": 2,
   "metadata": {
    "collapsed": false
   },
   "outputs": [
    {
     "data": {
      "text/plain": [
       "<sqlite3.Cursor at 0x10d4207a0>"
      ]
     },
     "execution_count": 2,
     "metadata": {},
     "output_type": "execute_result"
    }
   ],
   "source": [
    "#Create and/or connect to the database to store addresses\n",
    "conn = sqlite3.connect('addressDB.sqlite')\n",
    "cur = conn.cursor()\n",
    "\n",
    "#Add a table to store locations, if it doesn't already exist\n",
    "cur.execute('''CREATE TABLE IF NOT EXISTS Locations (address TEXT, geodata TEXT, file TEXT)''')"
   ]
  },
  {
   "cell_type": "code",
   "execution_count": 3,
   "metadata": {
    "collapsed": true
   },
   "outputs": [],
   "source": [
    "# Ignore SSL certificate errors\n",
    "ctx = ssl.create_default_context()\n",
    "ctx.check_hostname = False\n",
    "ctx.verify_mode = ssl.CERT_NONE"
   ]
  },
  {
   "cell_type": "code",
   "execution_count": 4,
   "metadata": {
    "collapsed": false
   },
   "outputs": [
    {
     "name": "stdout",
     "output_type": "stream",
     "text": [
      "0 addresses were already in the database.\n",
      "33 addresses were geocoded and added to the database.\n"
     ]
    }
   ],
   "source": [
    "#Geocode all of the address files and add them to the database\n",
    "added = 0\n",
    "notadded = 0\n",
    "\n",
    "for filename in os.listdir(\"/Users/ashleyriehl/Desktop/DSIWProject/Address Lists/\"): #Allow for multiple files\n",
    "    fh = open(os.path.join(\"/Users/ashleyriehl/Desktop/DSIWProject/Address Lists/\", filename))\n",
    "    #print(filename)\n",
    "    for line in fh:\n",
    "        #Only geocode 50 or fewer at a time since API key only allows 2500 per day\n",
    "        if added > 50 :\n",
    "            print('Retrieved 50 locations, restart to retrieve more')\n",
    "            break\n",
    "\n",
    "        address = line.strip()\n",
    "        cur.execute(\"SELECT geodata FROM Locations WHERE address= ?\",\n",
    "            (memoryview(address.encode()), ))\n",
    "\n",
    "        #Test whether the address is already in the database\n",
    "        try:\n",
    "            data = cur.fetchone()[0]\n",
    "            #print(\"Found in database\",address)\n",
    "            notadded = notadded + 1\n",
    "            continue\n",
    "        except:\n",
    "            pass\n",
    "\n",
    "        #Connect to API\n",
    "        parms = dict()\n",
    "        parms[\"query\"] = address\n",
    "        if api_key is not False: parms['key'] = api_key\n",
    "        url = serviceurl + urllib.parse.urlencode(parms)\n",
    "\n",
    "        #print('Retrieving', url)\n",
    "        uh = urllib.request.urlopen(url, context=ctx)\n",
    "        data = uh.read().decode()\n",
    "        #print('Retrieved', len(data), 'characters', data[:20].replace('\\n', ' '))\n",
    "        added = added + 1\n",
    "\n",
    "        try:\n",
    "            js = json.loads(data)\n",
    "        except:\n",
    "            print(data)  # We print in case unicode causes an error\n",
    "            continue\n",
    "\n",
    "        if 'status' not in js or (js['status'] != 'OK' and js['status'] != 'ZERO_RESULTS') :\n",
    "            print('==== Failure To Retrieve ====')\n",
    "            print(data)\n",
    "            break\n",
    "\n",
    "        cur.execute('''INSERT INTO Locations (address, geodata, file)\n",
    "                VALUES ( ?, ?, ? )''', (memoryview(address.encode()), memoryview(data.encode()), filename ) )\n",
    "        conn.commit()\n",
    "\n",
    "print(notadded, \"addresses were already in the database.\")\n",
    "print(added, \"addresses were geocoded and added to the database.\")"
   ]
  },
  {
   "cell_type": "markdown",
   "metadata": {},
   "source": [
    "### Extract geocoded addresses from the sqlite database\n",
    "Code also taken and modified from Dr. Chuck Severance's Coursera Series, *Python for Everybody*"
   ]
  },
  {
   "cell_type": "code",
   "execution_count": 5,
   "metadata": {
    "collapsed": false
   },
   "outputs": [
    {
     "name": "stdout",
     "output_type": "stream",
     "text": [
      "There are now currently 29 records in the file: addressList.py\n"
     ]
    }
   ],
   "source": [
    "#If not already imported\n",
    "import sqlite3\n",
    "import json\n",
    "import codecs\n",
    "\n",
    "#Connect to the database\n",
    "conn = sqlite3.connect('addressDB.sqlite')\n",
    "cur = conn.cursor()\n",
    "\n",
    "#Select all records from the Locations table\n",
    "cur.execute('SELECT * FROM Locations')\n",
    "fhand = codecs.open('addressList.py', 'w', \"utf-8\")\n",
    "fhand.write(\"myData = [\\n\")\n",
    "count = 0\n",
    "\n",
    "#Write the latitude, longitude, formatted address, and origin filename to a text file\n",
    "for row in cur :\n",
    "    #Select geocode data for record\n",
    "    data = str(row[1].decode())\n",
    "    try: js = json.loads(str(data))\n",
    "    except: continue\n",
    "        \n",
    "    #Store origin filename for record\n",
    "    addType = str(row[2])\n",
    "    \n",
    "    if not('status' in js and js['status'] == 'OK') : continue\n",
    "\n",
    "    lat = js[\"results\"][0][\"geometry\"][\"location\"][\"lat\"]\n",
    "    lng = js[\"results\"][0][\"geometry\"][\"location\"][\"lng\"]\n",
    "    if lat == 0 or lng == 0 : continue\n",
    "    where = js['results'][0]['formatted_address']\n",
    "    where = where.replace(\"'\", \"\")\n",
    "    try :\n",
    "        count = count + 1\n",
    "        if count > 1 : fhand.write(\",\\n\")\n",
    "        output = \"(\"+str(lat)+\",\"+str(lng)+\",'\"+where+\"','\"+str(addType)+\"')\"\n",
    "        fhand.write(output)\n",
    "    except:\n",
    "        continue\n",
    "\n",
    "fhand.write(\"\\n];\\n\")\n",
    "cur.close()\n",
    "fhand.close()\n",
    "\n",
    "print(\"There are now currently\", count, \"records in the file: addressList.py\")"
   ]
  },
  {
   "cell_type": "markdown",
   "metadata": {},
   "source": [
    "*Note: To rerun this geocode from scratch, delete the \"addressDB.sqlite\" file and clear out all data contained in the \"addressList.py\" file.*"
   ]
  },
  {
   "cell_type": "markdown",
   "metadata": {},
   "source": [
    "### Display GIS data using geopandas"
   ]
  },
  {
   "cell_type": "code",
   "execution_count": 6,
   "metadata": {
    "collapsed": false
   },
   "outputs": [],
   "source": [
    "#Extract address list from newly written file and put into a pandas dataframe\n",
    "from addressList import myData as addresses\n",
    "\n",
    "labels = ['lat', 'long', 'name', 'type']\n",
    "df = pd.DataFrame.from_records(addresses, columns=labels)"
   ]
  },
  {
   "cell_type": "code",
   "execution_count": 7,
   "metadata": {
    "collapsed": false
   },
   "outputs": [
    {
     "data": {
      "image/png": "[encoded data removed]",
      "text/plain": [
       "<matplotlib.figure.Figure at 0x10e8c87b8>"
      ]
     },
     "metadata": {},
     "output_type": "display_data"
    }
   ],
   "source": [
    "#If not already imported\n",
    "%matplotlib inline\n",
    "\n",
    "import os\n",
    "import matplotlib.pyplot as plt\n",
    "import seaborn as sns\n",
    "from shapely.geometry import Point\n",
    "import pandas as pd\n",
    "import geopandas as gpd\n",
    "from geopandas import GeoSeries, GeoDataFrame\n",
    "\n",
    "plt.style.use('bmh')\n",
    "\n",
    "#Plot points from dataframe\n",
    "geometry = [Point(xy) for xy in zip(df['long'], df['lat'])]\n",
    "gdf = GeoDataFrame(df, geometry=geometry)\n",
    "gdf.plot(marker='*', color='green', markersize=6, figsize=(5, 5));"
   ]
  },
  {
   "cell_type": "code",
   "execution_count": 9,
   "metadata": {
    "collapsed": false
   },
   "outputs": [
    {
     "data": {
      "text/plain": [
       "<matplotlib.axes._subplots.AxesSubplot at 0x119d575c0>"
      ]
     },
     "execution_count": 9,
     "metadata": {},
     "output_type": "execute_result"
    },
    {
     "data": {
      "image/png": "[encoded data removed]",
      "text/plain": [
       "<matplotlib.figure.Figure at 0x106495c50>"
      ]
     },
     "metadata": {},
     "output_type": "display_data"
    }
   ],
   "source": [
    "#Import and plot a shape file with census block groups in Deschutes County\n",
    "bGroups = gpd.read_file(\"/Users/ashleyriehl/Desktop/DSIWProject/GIS Data/2010_Census_Block_Groups/2010_Census_Block_Groups.shp\")\n",
    "\n",
    "#See information about the file\n",
    "#bGroups.head()\n",
    "#bGroups.crs\n",
    "\n",
    "bGroups.plot()"
   ]
  },
  {
   "cell_type": "markdown",
   "metadata": {
    "collapsed": false
   },
   "source": [
    "### Use qGIS to visualize data\n",
    "I used qGIS to further explore and visualize this problem.  Some of the layers I included were:\n",
    "* Census block and census block group shape files joined to census data such as population estimates, housing estimates, vehicles per household, and population estimates by type of health insurance.\n",
    "* Transit stop locations\n",
    "* Transit routes\n",
    "* Streets\n",
    "* Locations of grocery stores, hospitals, and safety net clinics (geocoded above.)\n",
    "* Locations of police departments, libraries, fire stations, city offices, etc.\n",
    "\n",
    "I then created a half mile buffer around transit stop locations to gain perspective on how much of the area could be considered \"within walking distance\" of a bus stop.  \n",
    "\n",
    "The described data, shape files, and GIS files are all contained within this repository."
   ]
  },
  {
   "cell_type": "markdown",
   "metadata": {},
   "source": [
    "## Next steps\n",
    "To further explore this problem, I plan to:\n",
    "* Find and add residential building data to the qGIS map to calculate how many overlap with the transit stop buffer.\n",
    "* Add more historic population estimates from the 1990 and 2000 censuses to better understand how Central Oregon is developing and expanding.\n",
    "* Use the Road Graph plugin to explore possible driving times and distances for adding certain bus stops to routes. \n",
    "* Create printable maps."
   ]
  },
  {
   "cell_type": "code",
   "execution_count": null,
   "metadata": {
    "collapsed": true
   },
   "outputs": [],
   "source": []
  }
 ],
 "metadata": {
  "anaconda-cloud": {},
  "kernelspec": {
   "display_name": "Python [conda env:data-science]",
   "language": "python",
   "name": "conda-env-data-science-py"
  },
  "language_info": {
   "codemirror_mode": {
    "name": "ipython",
    "version": 3
   },
   "file_extension": ".py",
   "mimetype": "text/x-python",
   "name": "python",
   "nbconvert_exporter": "python",
   "pygments_lexer": "ipython3",
   "version": "3.5.3"
  }
 },
 "nbformat": 4,
 "nbformat_minor": 1
}
